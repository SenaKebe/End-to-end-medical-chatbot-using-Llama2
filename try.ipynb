{
 "cells": [
  {
   "cell_type": "code",
   "execution_count": 32,
   "id": "a110727d",
   "metadata": {},
   "outputs": [
    {
     "name": "stderr",
     "output_type": "stream",
     "text": [
      "\n",
      "[notice] A new release of pip is available: 25.1.1 -> 25.2\n",
      "[notice] To update, run: python.exe -m pip install --upgrade pip\n"
     ]
    }
   ],
   "source": [
    "!pip install -q groq \n"
   ]
  },
  {
   "cell_type": "code",
   "execution_count": 33,
   "id": "9e278595",
   "metadata": {},
   "outputs": [
    {
     "name": "stderr",
     "output_type": "stream",
     "text": [
      "\n",
      "[notice] A new release of pip is available: 25.1.1 -> 25.2\n",
      "[notice] To update, run: python.exe -m pip install --upgrade pip\n"
     ]
    }
   ],
   "source": [
    "!pip install -q langchain \n"
   ]
  },
  {
   "cell_type": "code",
   "execution_count": 34,
   "id": "8836eb15",
   "metadata": {},
   "outputs": [
    {
     "name": "stdout",
     "output_type": "stream",
     "text": [
      "^C\n"
     ]
    },
    {
     "name": "stderr",
     "output_type": "stream",
     "text": [
      "\n",
      "[notice] A new release of pip is available: 25.1.1 -> 25.2\n",
      "[notice] To update, run: python.exe -m pip install --upgrade pip\n"
     ]
    }
   ],
   "source": [
    "!pip install -q faiss-cpu"
   ]
  },
  {
   "cell_type": "code",
   "execution_count": 35,
   "id": "4fbefe3f",
   "metadata": {},
   "outputs": [
    {
     "name": "stderr",
     "output_type": "stream",
     "text": [
      "\n",
      "[notice] A new release of pip is available: 25.1.1 -> 25.2\n",
      "[notice] To update, run: python.exe -m pip install --upgrade pip\n"
     ]
    }
   ],
   "source": [
    "!pip install -q sentence-transformers"
   ]
  },
  {
   "cell_type": "code",
   "execution_count": 36,
   "id": "00bba090",
   "metadata": {},
   "outputs": [
    {
     "name": "stderr",
     "output_type": "stream",
     "text": [
      "\n",
      "[notice] A new release of pip is available: 25.1.1 -> 25.2\n",
      "[notice] To update, run: python.exe -m pip install --upgrade pip\n"
     ]
    }
   ],
   "source": [
    "!pip install -q pypdf "
   ]
  },
  {
   "cell_type": "code",
   "execution_count": 37,
   "id": "055af636",
   "metadata": {},
   "outputs": [
    {
     "name": "stderr",
     "output_type": "stream",
     "text": [
      "\n",
      "[notice] A new release of pip is available: 25.1.1 -> 25.2\n",
      "[notice] To update, run: python.exe -m pip install --upgrade pip\n"
     ]
    }
   ],
   "source": [
    "!pip install -q python-dotenv"
   ]
  },
  {
   "cell_type": "code",
   "execution_count": 38,
   "id": "cdb7edb6",
   "metadata": {},
   "outputs": [
    {
     "name": "stderr",
     "output_type": "stream",
     "text": [
      "\n",
      "[notice] A new release of pip is available: 25.1.1 -> 25.2\n",
      "[notice] To update, run: python.exe -m pip install --upgrade pip\n"
     ]
    }
   ],
   "source": [
    "!pip install -q  ipywidgets"
   ]
  },
  {
   "cell_type": "code",
   "execution_count": 12,
   "id": "95a0a18a",
   "metadata": {},
   "outputs": [],
   "source": [
    "import os\n",
    "from typing import List, Optional\n",
    "from IPython.display import display, Markdown\n",
    "import ipywidgets as widgets\n",
    "from dotenv import load_dotenv\n",
    "from groq import Groq\n",
    "from langchain.text_splitter import RecursiveCharacterTextSplitter\n",
    "from langchain_community.document_loaders import PyPDFLoader, DirectoryLoader\n",
    "from langchain_core.documents import Document\n",
    "from langchain_community.vectorstores import FAISS\n",
    "from langchain.embeddings import HuggingFaceEmbeddings"
   ]
  },
  {
   "cell_type": "code",
   "execution_count": 18,
   "id": "7f559b74",
   "metadata": {},
   "outputs": [],
   "source": [
    "load_dotenv()  # Load environment variables from .env file\n",
    "\n",
    "class Config:\n",
    "    GROQ_API_KEY = os.getenv(\"GROQ_API_KEY\")\n",
    "    DATA_PATH = \"data/\"  # Directory containing medical PDFs\n",
    "    CHUNK_SIZE = 1000\n",
    "    CHUNK_OVERLAP = 200\n",
    "    EMBEDDING_MODEL = \"all-MiniLM-L6-v2\"\n",
    "    LLM_MODEL = \"llama3-70b-8192\""
   ]
  },
  {
   "cell_type": "code",
   "execution_count": 14,
   "id": "d12d0918",
   "metadata": {},
   "outputs": [
    {
     "data": {
      "text/markdown": [
       "✅ **Groq client initialized successfully**"
      ],
      "text/plain": [
       "<IPython.core.display.Markdown object>"
      ]
     },
     "metadata": {},
     "output_type": "display_data"
    }
   ],
   "source": [
    "try:\n",
    "    client = Groq(api_key=Config.GROQ_API_KEY)\n",
    "    display(Markdown(\"✅ **Groq client initialized successfully**\"))\n",
    "except Exception as e:\n",
    "    display(Markdown(f\"❌ **Error initializing Groq client:** {e}\"))"
   ]
  },
  {
   "cell_type": "code",
   "execution_count": null,
   "id": "a63f7e04",
   "metadata": {},
   "outputs": [
    {
     "ename": "TraitError",
     "evalue": "The 'children' trait of a VBox instance contains an Instance of a TypedTuple which expected a Widget, not the Markdown <IPython.core.display.Markdown object>.",
     "output_type": "error",
     "traceback": [
      "\u001b[1;31m---------------------------------------------------------------------------\u001b[0m",
      "\u001b[1;31mTraitError\u001b[0m                                Traceback (most recent call last)",
      "Cell \u001b[1;32mIn[46], line 10\u001b[0m\n\u001b[0;32m      7\u001b[0m submit_button \u001b[38;5;241m=\u001b[39m widgets\u001b[38;5;241m.\u001b[39mButton(description\u001b[38;5;241m=\u001b[39m\u001b[38;5;124m\"\u001b[39m\u001b[38;5;124mSubmit\u001b[39m\u001b[38;5;124m\"\u001b[39m)\n\u001b[0;32m      8\u001b[0m output \u001b[38;5;241m=\u001b[39m widgets\u001b[38;5;241m.\u001b[39mOutput()\n\u001b[1;32m---> 10\u001b[0m display(\u001b[43mwidgets\u001b[49m\u001b[38;5;241;43m.\u001b[39;49m\u001b[43mVBox\u001b[49m\u001b[43m(\u001b[49m\u001b[43m[\u001b[49m\n\u001b[0;32m     11\u001b[0m \u001b[43m    \u001b[49m\u001b[43mMarkdown\u001b[49m\u001b[43m(\u001b[49m\u001b[38;5;124;43m\"\u001b[39;49m\u001b[38;5;124;43m### Enter your [Groq API key](https://console.groq.com/keys)\u001b[39;49m\u001b[38;5;124;43m\"\u001b[39;49m\u001b[43m)\u001b[49m\u001b[43m,\u001b[49m\n\u001b[0;32m     12\u001b[0m \u001b[43m    \u001b[49m\u001b[43mapi_key_input\u001b[49m\u001b[43m,\u001b[49m\n\u001b[0;32m     13\u001b[0m \u001b[43m    \u001b[49m\u001b[43msubmit_button\u001b[49m\u001b[43m,\u001b[49m\n\u001b[0;32m     14\u001b[0m \u001b[43m    \u001b[49m\u001b[43moutput\u001b[49m\n\u001b[0;32m     15\u001b[0m \u001b[43m]\u001b[49m\u001b[43m)\u001b[49m)\n\u001b[0;32m     17\u001b[0m \u001b[38;5;28;01mdef\u001b[39;00m\u001b[38;5;250m \u001b[39m\u001b[38;5;21mon_submit_clicked\u001b[39m(b):\n\u001b[0;32m     18\u001b[0m     \u001b[38;5;28;01mwith\u001b[39;00m output:\n",
      "File \u001b[1;32mc:\\Users\\IdeaPad-320\\.conda\\envs\\chatbotenv\\lib\\site-packages\\ipywidgets\\widgets\\widget_box.py:64\u001b[0m, in \u001b[0;36mBox.__init__\u001b[1;34m(self, children, **kwargs)\u001b[0m\n\u001b[0;32m     62\u001b[0m \u001b[38;5;28;01mdef\u001b[39;00m\u001b[38;5;250m \u001b[39m\u001b[38;5;21m__init__\u001b[39m(\u001b[38;5;28mself\u001b[39m, children\u001b[38;5;241m=\u001b[39m(), \u001b[38;5;241m*\u001b[39m\u001b[38;5;241m*\u001b[39mkwargs):\n\u001b[0;32m     63\u001b[0m     kwargs[\u001b[38;5;124m'\u001b[39m\u001b[38;5;124mchildren\u001b[39m\u001b[38;5;124m'\u001b[39m] \u001b[38;5;241m=\u001b[39m children\n\u001b[1;32m---> 64\u001b[0m     \u001b[38;5;28msuper\u001b[39m()\u001b[38;5;241m.\u001b[39m\u001b[38;5;21m__init__\u001b[39m(\u001b[38;5;241m*\u001b[39m\u001b[38;5;241m*\u001b[39mkwargs)\n",
      "File \u001b[1;32mc:\\Users\\IdeaPad-320\\.conda\\envs\\chatbotenv\\lib\\site-packages\\ipywidgets\\widgets\\widget.py:503\u001b[0m, in \u001b[0;36mWidget.__init__\u001b[1;34m(self, **kwargs)\u001b[0m\n\u001b[0;32m    501\u001b[0m \u001b[38;5;250m\u001b[39m\u001b[38;5;124;03m\"\"\"Public constructor\"\"\"\u001b[39;00m\n\u001b[0;32m    502\u001b[0m \u001b[38;5;28mself\u001b[39m\u001b[38;5;241m.\u001b[39m_model_id \u001b[38;5;241m=\u001b[39m kwargs\u001b[38;5;241m.\u001b[39mpop(\u001b[38;5;124m'\u001b[39m\u001b[38;5;124mmodel_id\u001b[39m\u001b[38;5;124m'\u001b[39m, \u001b[38;5;28;01mNone\u001b[39;00m)\n\u001b[1;32m--> 503\u001b[0m \u001b[38;5;28msuper\u001b[39m()\u001b[38;5;241m.\u001b[39m\u001b[38;5;21m__init__\u001b[39m(\u001b[38;5;241m*\u001b[39m\u001b[38;5;241m*\u001b[39mkwargs)\n\u001b[0;32m    505\u001b[0m Widget\u001b[38;5;241m.\u001b[39m_call_widget_constructed(\u001b[38;5;28mself\u001b[39m)\n\u001b[0;32m    506\u001b[0m \u001b[38;5;28mself\u001b[39m\u001b[38;5;241m.\u001b[39mopen()\n",
      "File \u001b[1;32mc:\\Users\\IdeaPad-320\\.conda\\envs\\chatbotenv\\lib\\site-packages\\traitlets\\traitlets.py:1355\u001b[0m, in \u001b[0;36mHasTraits.__init__\u001b[1;34m(self, *args, **kwargs)\u001b[0m\n\u001b[0;32m   1353\u001b[0m \u001b[38;5;28;01mfor\u001b[39;00m key, value \u001b[38;5;129;01min\u001b[39;00m kwargs\u001b[38;5;241m.\u001b[39mitems():\n\u001b[0;32m   1354\u001b[0m     \u001b[38;5;28;01mif\u001b[39;00m \u001b[38;5;28mself\u001b[39m\u001b[38;5;241m.\u001b[39mhas_trait(key):\n\u001b[1;32m-> 1355\u001b[0m         \u001b[38;5;28;43msetattr\u001b[39;49m\u001b[43m(\u001b[49m\u001b[38;5;28;43mself\u001b[39;49m\u001b[43m,\u001b[49m\u001b[43m \u001b[49m\u001b[43mkey\u001b[49m\u001b[43m,\u001b[49m\u001b[43m \u001b[49m\u001b[43mvalue\u001b[49m\u001b[43m)\u001b[49m\n\u001b[0;32m   1356\u001b[0m         changes[key] \u001b[38;5;241m=\u001b[39m Bunch(\n\u001b[0;32m   1357\u001b[0m             name\u001b[38;5;241m=\u001b[39mkey,\n\u001b[0;32m   1358\u001b[0m             old\u001b[38;5;241m=\u001b[39m\u001b[38;5;28;01mNone\u001b[39;00m,\n\u001b[1;32m   (...)\u001b[0m\n\u001b[0;32m   1361\u001b[0m             \u001b[38;5;28mtype\u001b[39m\u001b[38;5;241m=\u001b[39m\u001b[38;5;124m\"\u001b[39m\u001b[38;5;124mchange\u001b[39m\u001b[38;5;124m\"\u001b[39m,\n\u001b[0;32m   1362\u001b[0m         )\n\u001b[0;32m   1363\u001b[0m     \u001b[38;5;28;01melse\u001b[39;00m:\n\u001b[0;32m   1364\u001b[0m         \u001b[38;5;66;03m# passthrough args that don't set traits to super\u001b[39;00m\n",
      "File \u001b[1;32mc:\\Users\\IdeaPad-320\\.conda\\envs\\chatbotenv\\lib\\site-packages\\traitlets\\traitlets.py:716\u001b[0m, in \u001b[0;36mTraitType.__set__\u001b[1;34m(self, obj, value)\u001b[0m\n\u001b[0;32m    714\u001b[0m \u001b[38;5;28;01mif\u001b[39;00m \u001b[38;5;28mself\u001b[39m\u001b[38;5;241m.\u001b[39mread_only:\n\u001b[0;32m    715\u001b[0m     \u001b[38;5;28;01mraise\u001b[39;00m TraitError(\u001b[38;5;124m'\u001b[39m\u001b[38;5;124mThe \u001b[39m\u001b[38;5;124m\"\u001b[39m\u001b[38;5;132;01m%s\u001b[39;00m\u001b[38;5;124m\"\u001b[39m\u001b[38;5;124m trait is read-only.\u001b[39m\u001b[38;5;124m'\u001b[39m \u001b[38;5;241m%\u001b[39m \u001b[38;5;28mself\u001b[39m\u001b[38;5;241m.\u001b[39mname)\n\u001b[1;32m--> 716\u001b[0m \u001b[38;5;28;43mself\u001b[39;49m\u001b[38;5;241;43m.\u001b[39;49m\u001b[43mset\u001b[49m\u001b[43m(\u001b[49m\u001b[43mobj\u001b[49m\u001b[43m,\u001b[49m\u001b[43m \u001b[49m\u001b[43mvalue\u001b[49m\u001b[43m)\u001b[49m\n",
      "File \u001b[1;32mc:\\Users\\IdeaPad-320\\.conda\\envs\\chatbotenv\\lib\\site-packages\\traitlets\\traitlets.py:690\u001b[0m, in \u001b[0;36mTraitType.set\u001b[1;34m(self, obj, value)\u001b[0m\n\u001b[0;32m    689\u001b[0m \u001b[38;5;28;01mdef\u001b[39;00m\u001b[38;5;250m \u001b[39m\u001b[38;5;21mset\u001b[39m(\u001b[38;5;28mself\u001b[39m, obj: HasTraits, value: S) \u001b[38;5;241m-\u001b[39m\u001b[38;5;241m>\u001b[39m \u001b[38;5;28;01mNone\u001b[39;00m:\n\u001b[1;32m--> 690\u001b[0m     new_value \u001b[38;5;241m=\u001b[39m \u001b[38;5;28;43mself\u001b[39;49m\u001b[38;5;241;43m.\u001b[39;49m\u001b[43m_validate\u001b[49m\u001b[43m(\u001b[49m\u001b[43mobj\u001b[49m\u001b[43m,\u001b[49m\u001b[43m \u001b[49m\u001b[43mvalue\u001b[49m\u001b[43m)\u001b[49m\n\u001b[0;32m    691\u001b[0m     \u001b[38;5;28;01massert\u001b[39;00m \u001b[38;5;28mself\u001b[39m\u001b[38;5;241m.\u001b[39mname \u001b[38;5;129;01mis\u001b[39;00m \u001b[38;5;129;01mnot\u001b[39;00m \u001b[38;5;28;01mNone\u001b[39;00m\n\u001b[0;32m    692\u001b[0m     \u001b[38;5;28;01mtry\u001b[39;00m:\n",
      "File \u001b[1;32mc:\\Users\\IdeaPad-320\\.conda\\envs\\chatbotenv\\lib\\site-packages\\traitlets\\traitlets.py:722\u001b[0m, in \u001b[0;36mTraitType._validate\u001b[1;34m(self, obj, value)\u001b[0m\n\u001b[0;32m    720\u001b[0m     \u001b[38;5;28;01mreturn\u001b[39;00m value\n\u001b[0;32m    721\u001b[0m \u001b[38;5;28;01mif\u001b[39;00m \u001b[38;5;28mhasattr\u001b[39m(\u001b[38;5;28mself\u001b[39m, \u001b[38;5;124m\"\u001b[39m\u001b[38;5;124mvalidate\u001b[39m\u001b[38;5;124m\"\u001b[39m):\n\u001b[1;32m--> 722\u001b[0m     value \u001b[38;5;241m=\u001b[39m \u001b[38;5;28;43mself\u001b[39;49m\u001b[38;5;241;43m.\u001b[39;49m\u001b[43mvalidate\u001b[49m\u001b[43m(\u001b[49m\u001b[43mobj\u001b[49m\u001b[43m,\u001b[49m\u001b[43m \u001b[49m\u001b[43mvalue\u001b[49m\u001b[43m)\u001b[49m\n\u001b[0;32m    723\u001b[0m \u001b[38;5;28;01mif\u001b[39;00m obj\u001b[38;5;241m.\u001b[39m_cross_validation_lock \u001b[38;5;129;01mis\u001b[39;00m \u001b[38;5;28;01mFalse\u001b[39;00m:\n\u001b[0;32m    724\u001b[0m     value \u001b[38;5;241m=\u001b[39m \u001b[38;5;28mself\u001b[39m\u001b[38;5;241m.\u001b[39m_cross_validate(obj, value)\n",
      "File \u001b[1;32mc:\\Users\\IdeaPad-320\\.conda\\envs\\chatbotenv\\lib\\site-packages\\traitlets\\traitlets.py:3482\u001b[0m, in \u001b[0;36mContainer.validate\u001b[1;34m(self, obj, value)\u001b[0m\n\u001b[0;32m   3479\u001b[0m \u001b[38;5;28;01mif\u001b[39;00m value \u001b[38;5;129;01mis\u001b[39;00m \u001b[38;5;28;01mNone\u001b[39;00m:\n\u001b[0;32m   3480\u001b[0m     \u001b[38;5;28;01mreturn\u001b[39;00m value\n\u001b[1;32m-> 3482\u001b[0m value \u001b[38;5;241m=\u001b[39m \u001b[38;5;28;43mself\u001b[39;49m\u001b[38;5;241;43m.\u001b[39;49m\u001b[43mvalidate_elements\u001b[49m\u001b[43m(\u001b[49m\u001b[43mobj\u001b[49m\u001b[43m,\u001b[49m\u001b[43m \u001b[49m\u001b[43mvalue\u001b[49m\u001b[43m)\u001b[49m\n\u001b[0;32m   3484\u001b[0m \u001b[38;5;28;01mreturn\u001b[39;00m t\u001b[38;5;241m.\u001b[39mcast(T, value)\n",
      "File \u001b[1;32mc:\\Users\\IdeaPad-320\\.conda\\envs\\chatbotenv\\lib\\site-packages\\traitlets\\traitlets.py:3494\u001b[0m, in \u001b[0;36mContainer.validate_elements\u001b[1;34m(self, obj, value)\u001b[0m\n\u001b[0;32m   3492\u001b[0m     v \u001b[38;5;241m=\u001b[39m \u001b[38;5;28mself\u001b[39m\u001b[38;5;241m.\u001b[39m_trait\u001b[38;5;241m.\u001b[39m_validate(obj, v)\n\u001b[0;32m   3493\u001b[0m \u001b[38;5;28;01mexcept\u001b[39;00m TraitError \u001b[38;5;28;01mas\u001b[39;00m error:\n\u001b[1;32m-> 3494\u001b[0m     \u001b[38;5;28;43mself\u001b[39;49m\u001b[38;5;241;43m.\u001b[39;49m\u001b[43merror\u001b[49m\u001b[43m(\u001b[49m\u001b[43mobj\u001b[49m\u001b[43m,\u001b[49m\u001b[43m \u001b[49m\u001b[43mv\u001b[49m\u001b[43m,\u001b[49m\u001b[43m \u001b[49m\u001b[43merror\u001b[49m\u001b[43m)\u001b[49m\n\u001b[0;32m   3495\u001b[0m \u001b[38;5;28;01melse\u001b[39;00m:\n\u001b[0;32m   3496\u001b[0m     validated\u001b[38;5;241m.\u001b[39mappend(v)\n",
      "File \u001b[1;32mc:\\Users\\IdeaPad-320\\.conda\\envs\\chatbotenv\\lib\\site-packages\\traitlets\\traitlets.py:810\u001b[0m, in \u001b[0;36mTraitType.error\u001b[1;34m(self, obj, value, error, info)\u001b[0m\n\u001b[0;32m    801\u001b[0m         \u001b[38;5;28;01melse\u001b[39;00m:\n\u001b[0;32m    802\u001b[0m             error\u001b[38;5;241m.\u001b[39margs \u001b[38;5;241m=\u001b[39m (\n\u001b[0;32m    803\u001b[0m                 \u001b[38;5;124m\"\u001b[39m\u001b[38;5;124mThe \u001b[39m\u001b[38;5;124m'\u001b[39m\u001b[38;5;132;01m{}\u001b[39;00m\u001b[38;5;124m'\u001b[39m\u001b[38;5;124m trait contains \u001b[39m\u001b[38;5;132;01m{}\u001b[39;00m\u001b[38;5;124m which \u001b[39m\u001b[38;5;124m\"\u001b[39m \u001b[38;5;124m\"\u001b[39m\u001b[38;5;124mexpected \u001b[39m\u001b[38;5;132;01m{}\u001b[39;00m\u001b[38;5;124m, not \u001b[39m\u001b[38;5;132;01m{}\u001b[39;00m\u001b[38;5;124m.\u001b[39m\u001b[38;5;124m\"\u001b[39m\u001b[38;5;241m.\u001b[39mformat(\n\u001b[0;32m    804\u001b[0m                     \u001b[38;5;28mself\u001b[39m\u001b[38;5;241m.\u001b[39mname,\n\u001b[1;32m   (...)\u001b[0m\n\u001b[0;32m    808\u001b[0m                 ),\n\u001b[0;32m    809\u001b[0m             )\n\u001b[1;32m--> 810\u001b[0m     \u001b[38;5;28;01mraise\u001b[39;00m error\n\u001b[0;32m    812\u001b[0m \u001b[38;5;66;03m# this trait caused an error\u001b[39;00m\n\u001b[0;32m    813\u001b[0m \u001b[38;5;28;01mif\u001b[39;00m \u001b[38;5;28mself\u001b[39m\u001b[38;5;241m.\u001b[39mname \u001b[38;5;129;01mis\u001b[39;00m \u001b[38;5;28;01mNone\u001b[39;00m:\n\u001b[0;32m    814\u001b[0m     \u001b[38;5;66;03m# this is not the root trait\u001b[39;00m\n",
      "File \u001b[1;32mc:\\Users\\IdeaPad-320\\.conda\\envs\\chatbotenv\\lib\\site-packages\\traitlets\\traitlets.py:3492\u001b[0m, in \u001b[0;36mContainer.validate_elements\u001b[1;34m(self, obj, value)\u001b[0m\n\u001b[0;32m   3490\u001b[0m \u001b[38;5;28;01mfor\u001b[39;00m v \u001b[38;5;129;01min\u001b[39;00m value:\n\u001b[0;32m   3491\u001b[0m     \u001b[38;5;28;01mtry\u001b[39;00m:\n\u001b[1;32m-> 3492\u001b[0m         v \u001b[38;5;241m=\u001b[39m \u001b[38;5;28;43mself\u001b[39;49m\u001b[38;5;241;43m.\u001b[39;49m\u001b[43m_trait\u001b[49m\u001b[38;5;241;43m.\u001b[39;49m\u001b[43m_validate\u001b[49m\u001b[43m(\u001b[49m\u001b[43mobj\u001b[49m\u001b[43m,\u001b[49m\u001b[43m \u001b[49m\u001b[43mv\u001b[49m\u001b[43m)\u001b[49m\n\u001b[0;32m   3493\u001b[0m     \u001b[38;5;28;01mexcept\u001b[39;00m TraitError \u001b[38;5;28;01mas\u001b[39;00m error:\n\u001b[0;32m   3494\u001b[0m         \u001b[38;5;28mself\u001b[39m\u001b[38;5;241m.\u001b[39merror(obj, v, error)\n",
      "File \u001b[1;32mc:\\Users\\IdeaPad-320\\.conda\\envs\\chatbotenv\\lib\\site-packages\\traitlets\\traitlets.py:722\u001b[0m, in \u001b[0;36mTraitType._validate\u001b[1;34m(self, obj, value)\u001b[0m\n\u001b[0;32m    720\u001b[0m     \u001b[38;5;28;01mreturn\u001b[39;00m value\n\u001b[0;32m    721\u001b[0m \u001b[38;5;28;01mif\u001b[39;00m \u001b[38;5;28mhasattr\u001b[39m(\u001b[38;5;28mself\u001b[39m, \u001b[38;5;124m\"\u001b[39m\u001b[38;5;124mvalidate\u001b[39m\u001b[38;5;124m\"\u001b[39m):\n\u001b[1;32m--> 722\u001b[0m     value \u001b[38;5;241m=\u001b[39m \u001b[38;5;28;43mself\u001b[39;49m\u001b[38;5;241;43m.\u001b[39;49m\u001b[43mvalidate\u001b[49m\u001b[43m(\u001b[49m\u001b[43mobj\u001b[49m\u001b[43m,\u001b[49m\u001b[43m \u001b[49m\u001b[43mvalue\u001b[49m\u001b[43m)\u001b[49m\n\u001b[0;32m    723\u001b[0m \u001b[38;5;28;01mif\u001b[39;00m obj\u001b[38;5;241m.\u001b[39m_cross_validation_lock \u001b[38;5;129;01mis\u001b[39;00m \u001b[38;5;28;01mFalse\u001b[39;00m:\n\u001b[0;32m    724\u001b[0m     value \u001b[38;5;241m=\u001b[39m \u001b[38;5;28mself\u001b[39m\u001b[38;5;241m.\u001b[39m_cross_validate(obj, value)\n",
      "File \u001b[1;32mc:\\Users\\IdeaPad-320\\.conda\\envs\\chatbotenv\\lib\\site-packages\\traitlets\\traitlets.py:2311\u001b[0m, in \u001b[0;36mInstance.validate\u001b[1;34m(self, obj, value)\u001b[0m\n\u001b[0;32m   2309\u001b[0m     \u001b[38;5;28;01mreturn\u001b[39;00m t\u001b[38;5;241m.\u001b[39mcast(T, value)\n\u001b[0;32m   2310\u001b[0m \u001b[38;5;28;01melse\u001b[39;00m:\n\u001b[1;32m-> 2311\u001b[0m     \u001b[38;5;28;43mself\u001b[39;49m\u001b[38;5;241;43m.\u001b[39;49m\u001b[43merror\u001b[49m\u001b[43m(\u001b[49m\u001b[43mobj\u001b[49m\u001b[43m,\u001b[49m\u001b[43m \u001b[49m\u001b[43mvalue\u001b[49m\u001b[43m)\u001b[49m\n",
      "File \u001b[1;32mc:\\Users\\IdeaPad-320\\.conda\\envs\\chatbotenv\\lib\\site-packages\\traitlets\\traitlets.py:815\u001b[0m, in \u001b[0;36mTraitType.error\u001b[1;34m(self, obj, value, error, info)\u001b[0m\n\u001b[0;32m    812\u001b[0m \u001b[38;5;66;03m# this trait caused an error\u001b[39;00m\n\u001b[0;32m    813\u001b[0m \u001b[38;5;28;01mif\u001b[39;00m \u001b[38;5;28mself\u001b[39m\u001b[38;5;241m.\u001b[39mname \u001b[38;5;129;01mis\u001b[39;00m \u001b[38;5;28;01mNone\u001b[39;00m:\n\u001b[0;32m    814\u001b[0m     \u001b[38;5;66;03m# this is not the root trait\u001b[39;00m\n\u001b[1;32m--> 815\u001b[0m     \u001b[38;5;28;01mraise\u001b[39;00m TraitError(value, info \u001b[38;5;129;01mor\u001b[39;00m \u001b[38;5;28mself\u001b[39m\u001b[38;5;241m.\u001b[39minfo(), \u001b[38;5;28mself\u001b[39m)\n\u001b[0;32m    817\u001b[0m \u001b[38;5;66;03m# this is the root trait\u001b[39;00m\n\u001b[0;32m    818\u001b[0m \u001b[38;5;28;01mif\u001b[39;00m obj \u001b[38;5;129;01mis\u001b[39;00m \u001b[38;5;129;01mnot\u001b[39;00m \u001b[38;5;28;01mNone\u001b[39;00m:\n",
      "\u001b[1;31mTraitError\u001b[0m: The 'children' trait of a VBox instance contains an Instance of a TypedTuple which expected a Widget, not the Markdown <IPython.core.display.Markdown object>."
     ]
    }
   ],
   "source": [
    "import os\n",
    "from IPython.display import display, Markdown, clear_output\n",
    "import ipywidgets as widgets"
   ]
  },
  {
   "cell_type": "code",
   "execution_count": 2,
   "id": "c9f46f3b",
   "metadata": {},
   "outputs": [],
   "source": [
    "from IPython.display import display, Markdown, clear_output\n",
    "import ipywidgets as widgets"
   ]
  },
  {
   "cell_type": "code",
   "execution_count": 3,
   "id": "3cc53475",
   "metadata": {},
   "outputs": [],
   "source": [
    "import os"
   ]
  },
  {
   "cell_type": "code",
   "execution_count": null,
   "id": "9aa8a324",
   "metadata": {},
   "outputs": [
    {
     "data": {
      "application/vnd.jupyter.widget-view+json": {
       "model_id": "341c1aabe1664f3c913f88db0b4572db",
       "version_major": 2,
       "version_minor": 0
      },
      "text/plain": [
       "VBox(children=(HTML(value='<h3>Enter your Groq API key</h3>'), Text(value='', description='API Key:', layout=L…"
      ]
     },
     "metadata": {},
     "output_type": "display_data"
    },
    {
     "data": {
      "text/markdown": [
       "✅ **Chatbot components initialized successfully!**"
      ],
      "text/plain": [
       "<IPython.core.display.Markdown object>"
      ]
     },
     "metadata": {},
     "output_type": "display_data"
    },
    {
     "data": {
      "application/vnd.jupyter.widget-view+json": {
       "model_id": "b9a20b3ce074414fb1800bf7e3cd0066",
       "version_major": 2,
       "version_minor": 0
      },
      "text/plain": [
       "Button(button_style='info', description='Continue to Document Processing', style=ButtonStyle())"
      ]
     },
     "metadata": {},
     "output_type": "display_data"
    }
   ],
   "source": [
    "api_key_input = widgets.Text(\n",
    "    placeholder='Enter your Groq API key',\n",
    "    description='API Key:',\n",
    "    layout=widgets.Layout(width='400px'),\n",
    "    style={'description_width': 'initial'}\n",
    ")\n",
    "\n",
    "submit_button = widgets.Button(\n",
    "    description=\"Submit\",\n",
    "    button_style='success'\n",
    ")\n",
    "\n",
    "output_area = widgets.Output()\n",
    "\n",
    "# Create help text\n",
    "help_text = widgets.HTML(\n",
    "    value=\"<small>Get your API key from <a href='https://console.groq.com/keys' target='_blank'>Groq Console</a></small>\"\n",
    ")\n",
    "\n",
    "# Create container\n",
    "input_container = widgets.VBox([\n",
    "    widgets.HTML(\"<h3>Enter your Groq API key</h3>\"),\n",
    "    api_key_input,\n",
    "    help_text,\n",
    "    submit_button,\n",
    "    output_area\n",
    "])\n",
    "\n",
    "display(input_container)\n",
    "\n",
    "def on_submit_clicked(b):\n",
    "    with output_area:\n",
    "        clear_output()\n",
    "        api_key = api_key_input.value.strip()\n",
    "        \n",
    "        if not api_key:\n",
    "            display(Markdown(\"❌ **Please enter a valid API key**\"))\n",
    "            return\n",
    "        \n",
    "        try:\n",
    "            # Test the key\n",
    "            from groq import Groq\n",
    "            test_client = Groq(api_key=api_key)\n",
    "            test_client.models.list()  # Simple API call to verify key\n",
    "            \n",
    "            # Store the key\n",
    "            os.environ[\"GROQ_API_KEY\"] = api_key\n",
    "            api_key_input.disabled = True\n",
    "            submit_button.disabled = True\n",
    "            \n",
    "            display(Markdown(\"✅ **API key validated successfully!**\"))\n",
    "            display(Markdown(\"You can now proceed to run the next cells.\"))\n",
    "            \n",
    "        except Exception as e:\n",
    "            display(Markdown(f\"❌ **Key verification failed:** {str(e)}\"))\n",
    "            if \"GROQ_API_KEY\" in os.environ:\n",
    "                del os.environ[\"GROQ_API_KEY\"]\n",
    "\n",
    "submit_button.on_click(on_submit_clicked)\n",
    "\n",
    "# %% [markdown]\n",
    "# ## Step 2: Initialize Chatbot Components\n",
    "# (Only run after successful API key validation)\n",
    "\n",
    "# %%\n",
    "if 'GROQ_API_KEY' not in os.environ:\n",
    "    display(Markdown(\"❌ **API key not configured. Please complete Step 1 first.**\"))\n",
    "else:\n",
    "    try:\n",
    "        # Reinitialize imports with verified key\n",
    "        from groq import Groq\n",
    "        client = Groq(api_key=os.environ[\"GROQ_API_KEY\"])\n",
    "        \n",
    "        display(Markdown(\"✅ **Chatbot components initialized successfully!**\"))\n",
    "        \n",
    "        # Add a button to proceed to the next step\n",
    "        next_step_button = widgets.Button(\n",
    "            description=\"Continue to Document Processing\",\n",
    "            button_style='info'\n",
    "        )\n",
    "        \n",
    "        def on_next_step_clicked(b):\n",
    "            display(Markdown(\"Proceeding to document processing...\"))\n",
    "            # You would typically use this to run the next cells programmatically\n",
    "            # or guide the user to run them manually\n",
    "            \n",
    "        next_step_button.on_click(on_next_step_clicked)\n",
    "        display(next_step_button)\n",
    "        \n",
    "    except Exception as e:\n",
    "        display(Markdown(f\"❌ **Initialization failed:** {str(e)}\"))"
   ]
  },
  {
   "cell_type": "code",
   "execution_count": null,
   "id": "a8f57243",
   "metadata": {},
   "outputs": [
    {
     "ename": "SyntaxError",
     "evalue": "'(' was never closed (429994602.py, line 98)",
     "output_type": "error",
     "traceback": [
      "\u001b[1;36m  Cell \u001b[1;32mIn[8], line 98\u001b[1;36m\u001b[0m\n\u001b[1;33m    self.user_input = widgets.Text(\u001b[0m\n\u001b[1;37m                                  ^\u001b[0m\n\u001b[1;31mSyntaxError\u001b[0m\u001b[1;31m:\u001b[0m '(' was never closed\n"
     ]
    }
   ],
   "source": [
    "# %% [markdown]\n",
    "# ## Step 3: Document Processing\n",
    "\n",
    "# %%\n",
    "def document_processing_status():\n",
    "    \"\"\"Show document processing status with widgets\"\"\"\n",
    "    progress = widgets.IntProgress(value=0, min=0, max=4, description='Processing:')\n",
    "    status_label = widgets.Label(value=\"Waiting to start...\")\n",
    "    display(widgets.VBox([progress, status_label]))\n",
    "    return progress, status_label\n",
    "\n",
    "def load_and_process_documents():\n",
    "    \"\"\"Load and process documents with visual feedback\"\"\"\n",
    "    progress, status = document_processing_status()\n",
    "    \n",
    "    try:\n",
    "        # Step 1: Verify data directory exists\n",
    "        if not os.path.exists(Config.DATA_PATH):\n",
    "            os.makedirs(Config.DATA_PATH, exist_ok=True)\n",
    "            status.value = f\"Created directory {Config.DATA_PATH}. Please add PDF files and run again.\"\n",
    "            return None\n",
    "            \n",
    "        # Step 2: Load documents\n",
    "        status.value = \"Loading PDF documents...\"\n",
    "        progress.value = 1\n",
    "        \n",
    "        loader = DirectoryLoader(Config.DATA_PATH, glob=\"*.pdf\", loader_cls=PyPDFLoader)\n",
    "        documents = loader.load()\n",
    "        \n",
    "        if not documents:\n",
    "            status.value = f\"No PDFs found in {Config.DATA_PATH}. Please add documents.\"\n",
    "            return None\n",
    "            \n",
    "        # Step 3: Split documents\n",
    "        status.value = f\"Splitting {len(documents)} documents into chunks...\"\n",
    "        progress.value = 2\n",
    "        \n",
    "        text_splitter = RecursiveCharacterTextSplitter(\n",
    "            chunk_size=Config.CHUNK_SIZE,\n",
    "            chunk_overlap=Config.CHUNK_OVERLAP,\n",
    "            length_function=len,\n",
    "            separators=[\"\\n\\n\", \"\\n\", \" \", \"\"]\n",
    "        )\n",
    "        chunks = text_splitter.split_documents(documents)\n",
    "        \n",
    "        # Step 4: Create embeddings\n",
    "        status.value = \"Creating embeddings (this may take a minute)...\"\n",
    "        progress.value = 3\n",
    "        \n",
    "        embeddings = HuggingFaceEmbeddings(\n",
    "            model_name=Config.EMBEDDING_MODEL,\n",
    "            model_kwargs={'device': 'cpu'},  # Use 'cuda' if you have GPU\n",
    "            encode_kwargs={'normalize_embeddings': False}\n",
    "        )\n",
    "        \n",
    "        # Step 5: Create vector store\n",
    "        status.value = \"Building vector database...\"\n",
    "        progress.value = 4\n",
    "        \n",
    "        vector_store = FAISS.from_documents(chunks, embeddings)\n",
    "        \n",
    "        status.value = f\"✅ Success! Processed {len(documents)} docs into {len(chunks)} chunks\"\n",
    "        return vector_store\n",
    "        \n",
    "    except Exception as e:\n",
    "        status.value = f\"❌ Error: {str(e)}\"\n",
    "        return None\n",
    "\n",
    "# %%\n",
    "# Run document processing\n",
    "display(Markdown(\"### Document Processing\"))\n",
    "vector_store = load_and_process_documents()\n",
    "\n",
    "# %% [markdown]\n",
    "# ## Step 4: Chatbot Interface\n",
    "\n",
    "# %%\n"
   ]
  },
  {
   "cell_type": "code",
   "execution_count": 9,
   "id": "3add2782",
   "metadata": {},
   "outputs": [],
   "source": [
    "extracted_data = load_pdf(\"data/\")\n"
   ]
  },
  {
   "cell_type": "code",
   "execution_count": 16,
   "id": "ffa4a1ac",
   "metadata": {},
   "outputs": [
    {
     "name": "stdout",
     "output_type": "stream",
     "text": [
      "Requirement already satisfied: langchain in c:\\users\\ideapad-320\\.conda\\envs\\chatbotenv\\lib\\site-packages (0.3.26)"
     ]
    },
    {
     "name": "stderr",
     "output_type": "stream",
     "text": [
      "\n",
      "[notice] A new release of pip is available: 25.1.1 -> 25.2\n",
      "[notice] To update, run: python.exe -m pip install --upgrade pip\n"
     ]
    },
    {
     "name": "stdout",
     "output_type": "stream",
     "text": [
      "\n",
      "Requirement already satisfied: langchain-google-genai in c:\\users\\ideapad-320\\.conda\\envs\\chatbotenv\\lib\\site-packages (2.1.9)\n",
      "Requirement already satisfied: langchain-community in c:\\users\\ideapad-320\\.conda\\envs\\chatbotenv\\lib\\site-packages (0.3.27)\n",
      "Requirement already satisfied: pypdf in c:\\users\\ideapad-320\\.conda\\envs\\chatbotenv\\lib\\site-packages (5.7.0)\n",
      "Requirement already satisfied: langchain-core<1.0.0,>=0.3.66 in c:\\users\\ideapad-320\\.conda\\envs\\chatbotenv\\lib\\site-packages (from langchain) (0.3.68)\n",
      "Requirement already satisfied: langchain-text-splitters<1.0.0,>=0.3.8 in c:\\users\\ideapad-320\\.conda\\envs\\chatbotenv\\lib\\site-packages (from langchain) (0.3.8)\n",
      "Requirement already satisfied: langsmith>=0.1.17 in c:\\users\\ideapad-320\\.conda\\envs\\chatbotenv\\lib\\site-packages (from langchain) (0.4.5)\n",
      "Requirement already satisfied: pydantic<3.0.0,>=2.7.4 in c:\\users\\ideapad-320\\.conda\\envs\\chatbotenv\\lib\\site-packages (from langchain) (2.11.7)\n",
      "Requirement already satisfied: SQLAlchemy<3,>=1.4 in c:\\users\\ideapad-320\\.conda\\envs\\chatbotenv\\lib\\site-packages (from langchain) (2.0.41)\n",
      "Requirement already satisfied: requests<3,>=2 in c:\\users\\ideapad-320\\.conda\\envs\\chatbotenv\\lib\\site-packages (from langchain) (2.32.4)\n",
      "Requirement already satisfied: PyYAML>=5.3 in c:\\users\\ideapad-320\\.conda\\envs\\chatbotenv\\lib\\site-packages (from langchain) (6.0.2)\n",
      "Requirement already satisfied: async-timeout<5.0.0,>=4.0.0 in c:\\users\\ideapad-320\\.conda\\envs\\chatbotenv\\lib\\site-packages (from langchain) (4.0.3)\n",
      "Requirement already satisfied: tenacity!=8.4.0,<10.0.0,>=8.1.0 in c:\\users\\ideapad-320\\.conda\\envs\\chatbotenv\\lib\\site-packages (from langchain-core<1.0.0,>=0.3.66->langchain) (9.1.2)\n",
      "Requirement already satisfied: jsonpatch<2.0,>=1.33 in c:\\users\\ideapad-320\\.conda\\envs\\chatbotenv\\lib\\site-packages (from langchain-core<1.0.0,>=0.3.66->langchain) (1.33)\n",
      "Requirement already satisfied: packaging<25,>=23.2 in c:\\users\\ideapad-320\\.conda\\envs\\chatbotenv\\lib\\site-packages (from langchain-core<1.0.0,>=0.3.66->langchain) (24.2)\n",
      "Requirement already satisfied: typing-extensions>=4.7 in c:\\users\\ideapad-320\\.conda\\envs\\chatbotenv\\lib\\site-packages (from langchain-core<1.0.0,>=0.3.66->langchain) (4.12.2)\n",
      "Requirement already satisfied: jsonpointer>=1.9 in c:\\users\\ideapad-320\\.conda\\envs\\chatbotenv\\lib\\site-packages (from jsonpatch<2.0,>=1.33->langchain-core<1.0.0,>=0.3.66->langchain) (3.0.0)\n",
      "Requirement already satisfied: annotated-types>=0.6.0 in c:\\users\\ideapad-320\\.conda\\envs\\chatbotenv\\lib\\site-packages (from pydantic<3.0.0,>=2.7.4->langchain) (0.7.0)\n",
      "Requirement already satisfied: pydantic-core==2.33.2 in c:\\users\\ideapad-320\\.conda\\envs\\chatbotenv\\lib\\site-packages (from pydantic<3.0.0,>=2.7.4->langchain) (2.33.2)\n",
      "Requirement already satisfied: typing-inspection>=0.4.0 in c:\\users\\ideapad-320\\.conda\\envs\\chatbotenv\\lib\\site-packages (from pydantic<3.0.0,>=2.7.4->langchain) (0.4.1)\n",
      "Requirement already satisfied: charset_normalizer<4,>=2 in c:\\users\\ideapad-320\\.conda\\envs\\chatbotenv\\lib\\site-packages (from requests<3,>=2->langchain) (3.4.2)\n",
      "Requirement already satisfied: idna<4,>=2.5 in c:\\users\\ideapad-320\\.conda\\envs\\chatbotenv\\lib\\site-packages (from requests<3,>=2->langchain) (3.10)\n",
      "Requirement already satisfied: urllib3<3,>=1.21.1 in c:\\users\\ideapad-320\\.conda\\envs\\chatbotenv\\lib\\site-packages (from requests<3,>=2->langchain) (2.5.0)\n",
      "Requirement already satisfied: certifi>=2017.4.17 in c:\\users\\ideapad-320\\.conda\\envs\\chatbotenv\\lib\\site-packages (from requests<3,>=2->langchain) (2025.7.9)\n",
      "Requirement already satisfied: greenlet>=1 in c:\\users\\ideapad-320\\.conda\\envs\\chatbotenv\\lib\\site-packages (from SQLAlchemy<3,>=1.4->langchain) (3.2.3)\n",
      "Requirement already satisfied: filetype<2.0.0,>=1.2.0 in c:\\users\\ideapad-320\\.conda\\envs\\chatbotenv\\lib\\site-packages (from langchain-google-genai) (1.2.0)\n",
      "Requirement already satisfied: google-ai-generativelanguage<0.7.0,>=0.6.18 in c:\\users\\ideapad-320\\.conda\\envs\\chatbotenv\\lib\\site-packages (from langchain-google-genai) (0.6.18)\n",
      "Requirement already satisfied: google-api-core!=2.0.*,!=2.1.*,!=2.10.*,!=2.2.*,!=2.3.*,!=2.4.*,!=2.5.*,!=2.6.*,!=2.7.*,!=2.8.*,!=2.9.*,<3.0.0,>=1.34.1 in c:\\users\\ideapad-320\\.conda\\envs\\chatbotenv\\lib\\site-packages (from google-api-core[grpc]!=2.0.*,!=2.1.*,!=2.10.*,!=2.2.*,!=2.3.*,!=2.4.*,!=2.5.*,!=2.6.*,!=2.7.*,!=2.8.*,!=2.9.*,<3.0.0,>=1.34.1->google-ai-generativelanguage<0.7.0,>=0.6.18->langchain-google-genai) (2.25.1)\n",
      "Requirement already satisfied: google-auth!=2.24.0,!=2.25.0,<3.0.0,>=2.14.1 in c:\\users\\ideapad-320\\.conda\\envs\\chatbotenv\\lib\\site-packages (from google-ai-generativelanguage<0.7.0,>=0.6.18->langchain-google-genai) (2.40.3)\n",
      "Requirement already satisfied: proto-plus<2.0.0,>=1.22.3 in c:\\users\\ideapad-320\\.conda\\envs\\chatbotenv\\lib\\site-packages (from google-ai-generativelanguage<0.7.0,>=0.6.18->langchain-google-genai) (1.26.1)\n",
      "Requirement already satisfied: protobuf!=4.21.0,!=4.21.1,!=4.21.2,!=4.21.3,!=4.21.4,!=4.21.5,<7.0.0,>=3.20.2 in c:\\users\\ideapad-320\\.conda\\envs\\chatbotenv\\lib\\site-packages (from google-ai-generativelanguage<0.7.0,>=0.6.18->langchain-google-genai) (6.31.1)\n",
      "Requirement already satisfied: googleapis-common-protos<2.0.0,>=1.56.2 in c:\\users\\ideapad-320\\.conda\\envs\\chatbotenv\\lib\\site-packages (from google-api-core!=2.0.*,!=2.1.*,!=2.10.*,!=2.2.*,!=2.3.*,!=2.4.*,!=2.5.*,!=2.6.*,!=2.7.*,!=2.8.*,!=2.9.*,<3.0.0,>=1.34.1->google-api-core[grpc]!=2.0.*,!=2.1.*,!=2.10.*,!=2.2.*,!=2.3.*,!=2.4.*,!=2.5.*,!=2.6.*,!=2.7.*,!=2.8.*,!=2.9.*,<3.0.0,>=1.34.1->google-ai-generativelanguage<0.7.0,>=0.6.18->langchain-google-genai) (1.70.0)\n",
      "Requirement already satisfied: grpcio<2.0.0,>=1.33.2 in c:\\users\\ideapad-320\\.conda\\envs\\chatbotenv\\lib\\site-packages (from google-api-core[grpc]!=2.0.*,!=2.1.*,!=2.10.*,!=2.2.*,!=2.3.*,!=2.4.*,!=2.5.*,!=2.6.*,!=2.7.*,!=2.8.*,!=2.9.*,<3.0.0,>=1.34.1->google-ai-generativelanguage<0.7.0,>=0.6.18->langchain-google-genai) (1.73.1)\n",
      "Requirement already satisfied: grpcio-status<2.0.0,>=1.33.2 in c:\\users\\ideapad-320\\.conda\\envs\\chatbotenv\\lib\\site-packages (from google-api-core[grpc]!=2.0.*,!=2.1.*,!=2.10.*,!=2.2.*,!=2.3.*,!=2.4.*,!=2.5.*,!=2.6.*,!=2.7.*,!=2.8.*,!=2.9.*,<3.0.0,>=1.34.1->google-ai-generativelanguage<0.7.0,>=0.6.18->langchain-google-genai) (1.73.1)\n",
      "Requirement already satisfied: cachetools<6.0,>=2.0.0 in c:\\users\\ideapad-320\\.conda\\envs\\chatbotenv\\lib\\site-packages (from google-auth!=2.24.0,!=2.25.0,<3.0.0,>=2.14.1->google-ai-generativelanguage<0.7.0,>=0.6.18->langchain-google-genai) (5.5.2)\n",
      "Requirement already satisfied: pyasn1-modules>=0.2.1 in c:\\users\\ideapad-320\\.conda\\envs\\chatbotenv\\lib\\site-packages (from google-auth!=2.24.0,!=2.25.0,<3.0.0,>=2.14.1->google-ai-generativelanguage<0.7.0,>=0.6.18->langchain-google-genai) (0.4.2)\n",
      "Requirement already satisfied: rsa<5,>=3.1.4 in c:\\users\\ideapad-320\\.conda\\envs\\chatbotenv\\lib\\site-packages (from google-auth!=2.24.0,!=2.25.0,<3.0.0,>=2.14.1->google-ai-generativelanguage<0.7.0,>=0.6.18->langchain-google-genai) (4.9.1)\n",
      "Requirement already satisfied: pyasn1>=0.1.3 in c:\\users\\ideapad-320\\.conda\\envs\\chatbotenv\\lib\\site-packages (from rsa<5,>=3.1.4->google-auth!=2.24.0,!=2.25.0,<3.0.0,>=2.14.1->google-ai-generativelanguage<0.7.0,>=0.6.18->langchain-google-genai) (0.6.1)\n",
      "Requirement already satisfied: aiohttp<4.0.0,>=3.8.3 in c:\\users\\ideapad-320\\.conda\\envs\\chatbotenv\\lib\\site-packages (from langchain-community) (3.12.14)\n",
      "Requirement already satisfied: dataclasses-json<0.7,>=0.5.7 in c:\\users\\ideapad-320\\.conda\\envs\\chatbotenv\\lib\\site-packages (from langchain-community) (0.6.7)\n",
      "Requirement already satisfied: pydantic-settings<3.0.0,>=2.4.0 in c:\\users\\ideapad-320\\.conda\\envs\\chatbotenv\\lib\\site-packages (from langchain-community) (2.10.1)\n",
      "Requirement already satisfied: httpx-sse<1.0.0,>=0.4.0 in c:\\users\\ideapad-320\\.conda\\envs\\chatbotenv\\lib\\site-packages (from langchain-community) (0.4.1)\n",
      "Requirement already satisfied: numpy>=1.26.2 in c:\\users\\ideapad-320\\.conda\\envs\\chatbotenv\\lib\\site-packages (from langchain-community) (2.2.6)\n",
      "Requirement already satisfied: aiohappyeyeballs>=2.5.0 in c:\\users\\ideapad-320\\.conda\\envs\\chatbotenv\\lib\\site-packages (from aiohttp<4.0.0,>=3.8.3->langchain-community) (2.6.1)\n",
      "Requirement already satisfied: aiosignal>=1.4.0 in c:\\users\\ideapad-320\\.conda\\envs\\chatbotenv\\lib\\site-packages (from aiohttp<4.0.0,>=3.8.3->langchain-community) (1.4.0)\n",
      "Requirement already satisfied: attrs>=17.3.0 in c:\\users\\ideapad-320\\.conda\\envs\\chatbotenv\\lib\\site-packages (from aiohttp<4.0.0,>=3.8.3->langchain-community) (25.3.0)\n",
      "Requirement already satisfied: frozenlist>=1.1.1 in c:\\users\\ideapad-320\\.conda\\envs\\chatbotenv\\lib\\site-packages (from aiohttp<4.0.0,>=3.8.3->langchain-community) (1.7.0)\n",
      "Requirement already satisfied: multidict<7.0,>=4.5 in c:\\users\\ideapad-320\\.conda\\envs\\chatbotenv\\lib\\site-packages (from aiohttp<4.0.0,>=3.8.3->langchain-community) (6.6.3)\n",
      "Requirement already satisfied: propcache>=0.2.0 in c:\\users\\ideapad-320\\.conda\\envs\\chatbotenv\\lib\\site-packages (from aiohttp<4.0.0,>=3.8.3->langchain-community) (0.3.2)\n",
      "Requirement already satisfied: yarl<2.0,>=1.17.0 in c:\\users\\ideapad-320\\.conda\\envs\\chatbotenv\\lib\\site-packages (from aiohttp<4.0.0,>=3.8.3->langchain-community) (1.20.1)\n",
      "Requirement already satisfied: marshmallow<4.0.0,>=3.18.0 in c:\\users\\ideapad-320\\.conda\\envs\\chatbotenv\\lib\\site-packages (from dataclasses-json<0.7,>=0.5.7->langchain-community) (3.26.1)\n",
      "Requirement already satisfied: typing-inspect<1,>=0.4.0 in c:\\users\\ideapad-320\\.conda\\envs\\chatbotenv\\lib\\site-packages (from dataclasses-json<0.7,>=0.5.7->langchain-community) (0.9.0)\n",
      "Requirement already satisfied: python-dotenv>=0.21.0 in c:\\users\\ideapad-320\\.conda\\envs\\chatbotenv\\lib\\site-packages (from pydantic-settings<3.0.0,>=2.4.0->langchain-community) (1.1.1)\n",
      "Requirement already satisfied: mypy-extensions>=0.3.0 in c:\\users\\ideapad-320\\.conda\\envs\\chatbotenv\\lib\\site-packages (from typing-inspect<1,>=0.4.0->dataclasses-json<0.7,>=0.5.7->langchain-community) (1.1.0)\n",
      "Requirement already satisfied: httpx<1,>=0.23.0 in c:\\users\\ideapad-320\\.conda\\envs\\chatbotenv\\lib\\site-packages (from langsmith>=0.1.17->langchain) (0.28.1)\n",
      "Requirement already satisfied: orjson<4.0.0,>=3.9.14 in c:\\users\\ideapad-320\\.conda\\envs\\chatbotenv\\lib\\site-packages (from langsmith>=0.1.17->langchain) (3.10.18)\n",
      "Requirement already satisfied: requests-toolbelt<2.0.0,>=1.0.0 in c:\\users\\ideapad-320\\.conda\\envs\\chatbotenv\\lib\\site-packages (from langsmith>=0.1.17->langchain) (1.0.0)\n",
      "Requirement already satisfied: zstandard<0.24.0,>=0.23.0 in c:\\users\\ideapad-320\\.conda\\envs\\chatbotenv\\lib\\site-packages (from langsmith>=0.1.17->langchain) (0.23.0)\n",
      "Requirement already satisfied: anyio in c:\\users\\ideapad-320\\.conda\\envs\\chatbotenv\\lib\\site-packages (from httpx<1,>=0.23.0->langsmith>=0.1.17->langchain) (4.9.0)\n",
      "Requirement already satisfied: httpcore==1.* in c:\\users\\ideapad-320\\.conda\\envs\\chatbotenv\\lib\\site-packages (from httpx<1,>=0.23.0->langsmith>=0.1.17->langchain) (1.0.9)\n",
      "Requirement already satisfied: h11>=0.16 in c:\\users\\ideapad-320\\.conda\\envs\\chatbotenv\\lib\\site-packages (from httpcore==1.*->httpx<1,>=0.23.0->langsmith>=0.1.17->langchain) (0.16.0)\n",
      "Requirement already satisfied: exceptiongroup>=1.0.2 in c:\\users\\ideapad-320\\.conda\\envs\\chatbotenv\\lib\\site-packages (from anyio->httpx<1,>=0.23.0->langsmith>=0.1.17->langchain) (1.2.0)\n",
      "Requirement already satisfied: sniffio>=1.1 in c:\\users\\ideapad-320\\.conda\\envs\\chatbotenv\\lib\\site-packages (from anyio->httpx<1,>=0.23.0->langsmith>=0.1.17->langchain) (1.3.1)\n"
     ]
    }
   ],
   "source": [
    "!pip install langchain langchain-google-genai langchain-community pypdf"
   ]
  },
  {
   "cell_type": "code",
   "execution_count": 29,
   "id": "578f376e",
   "metadata": {},
   "outputs": [],
   "source": [
    "from typing import List\n",
    "from langchain.text_splitter import RecursiveCharacterTextSplitter\n",
    "from langchain_google_genai import GoogleGenerativeAIEmbeddings\n",
    "from typing import List"
   ]
  },
  {
   "cell_type": "code",
   "execution_count": 15,
   "id": "6d60c134",
   "metadata": {},
   "outputs": [],
   "source": [
    "def document_processing_status():\n",
    "    \"\"\"Show document processing status with widgets\"\"\"\n",
    "    progress = widgets.IntProgress(value=0, min=0, max=4, description='Processing:')\n",
    "    status_label = widgets.Label(value=\"Waiting to start...\")\n",
    "    display(widgets.VBox([progress, status_label]))\n",
    "    return progress, status_label\n",
    "\n",
    "def load_and_process_documents():\n",
    "    \"\"\"Load and process documents with visual feedback\"\"\"\n",
    "    progress, status = document_processing_status()\n",
    "    \n",
    "    try:\n",
    "        # Step 1: Verify data directory exists\n",
    "        if not os.path.exists(Config.DATA_PATH):\n",
    "            os.makedirs(Config.DATA_PATH, exist_ok=True)\n",
    "            status.value = f\"Created directory {Config.DATA_PATH}. Please add PDF files and run again.\"\n",
    "            return None\n",
    "            \n",
    "        # Step 2: Load documents\n",
    "        status.value = \"Loading PDF documents...\"\n",
    "        progress.value = 1\n",
    "        \n",
    "        loader = DirectoryLoader(Config.DATA_PATH, glob=\"*.pdf\", loader_cls=PyPDFLoader)\n",
    "        documents = loader.load()\n",
    "        \n",
    "        if not documents:\n",
    "            status.value = f\"No PDFs found in {Config.DATA_PATH}. Please add documents.\"\n",
    "            return None\n",
    "            \n",
    "        # Step 3: Split documents\n",
    "        status.value = f\"Splitting {len(documents)} documents into chunks...\"\n",
    "        progress.value = 2\n",
    "        \n",
    "        text_splitter = RecursiveCharacterTextSplitter(\n",
    "            chunk_size=Config.CHUNK_SIZE,\n",
    "            chunk_overlap=Config.CHUNK_OVERLAP,\n",
    "            length_function=len,\n",
    "            separators=[\"\\n\\n\", \"\\n\", \" \", \"\"]\n",
    "        )\n",
    "        chunks = text_splitter.split_documents(documents)\n",
    "        \n",
    "        # Step 4: Create embeddings\n",
    "        status.value = \"Creating embeddings (this may take a minute)...\"\n",
    "        progress.value = 3\n",
    "        \n",
    "        embeddings = HuggingFaceEmbeddings(\n",
    "            model_name=Config.EMBEDDING_MODEL,\n",
    "            model_kwargs={'device': 'cpu'},  # Use 'cuda' if you have GPU\n",
    "            encode_kwargs={'normalize_embeddings': False}\n",
    "        )\n",
    "        \n",
    "        # Step 5: Create vector store\n",
    "        status.value = \"Building vector database...\"\n",
    "        progress.value = 4\n",
    "        \n",
    "        vector_store = FAISS.from_documents(chunks, embeddings)\n",
    "        \n",
    "        status.value = f\"✅ Success! Processed {len(documents)} docs into {len(chunks)} chunks\"\n",
    "        return vector_store\n",
    "        \n",
    "    except Exception as e:\n",
    "        status.value = f\"❌ Error: {str(e)}\"\n",
    "        return None"
   ]
  },
  {
   "cell_type": "code",
   "execution_count": null,
   "id": "2c0dd928",
   "metadata": {},
   "outputs": [
    {
     "data": {
      "text/markdown": [
       "### Document Processing"
      ],
      "text/plain": [
       "<IPython.core.display.Markdown object>"
      ]
     },
     "metadata": {},
     "output_type": "display_data"
    },
    {
     "data": {
      "application/vnd.jupyter.widget-view+json": {
       "model_id": "59a3222e13384339a003df9fdfa129b2",
       "version_major": 2,
       "version_minor": 0
      },
      "text/plain": [
       "VBox(children=(IntProgress(value=0, description='Processing:', max=4), Label(value='Waiting to start...')))"
      ]
     },
     "metadata": {},
     "output_type": "display_data"
    },
    {
     "data": {
      "text/markdown": [
       "## 🏥 Medical Chatbot Interface"
      ],
      "text/plain": [
       "<IPython.core.display.Markdown object>"
      ]
     },
     "metadata": {},
     "output_type": "display_data"
    },
    {
     "data": {
      "application/vnd.jupyter.widget-view+json": {
       "model_id": "7a0205b4f7584028b9b703c8067b21ee",
       "version_major": 2,
       "version_minor": 0
      },
      "text/plain": [
       "Output()"
      ]
     },
     "metadata": {},
     "output_type": "display_data"
    },
    {
     "data": {
      "application/vnd.jupyter.widget-view+json": {
       "model_id": "5caf5867953340c7a3156b507b3cdefa",
       "version_major": 2,
       "version_minor": 0
      },
      "text/plain": [
       "HBox(children=(Text(value='', layout=Layout(width='80%'), placeholder='Type your medical question here...'), B…"
      ]
     },
     "metadata": {},
     "output_type": "display_data"
    }
   ],
   "source": [
    "display(Markdown(\"### Document Processing\"))\n",
    "vector_store = load_and_process_documents()\n",
    "\n",
    "# %% [markdown]\n",
    "# ## Step 5: Chatbot Interface\n",
    "\n",
    "# %%\n",
    "class MedicalChatbot:\n",
    "    def __init__(self, vector_store=None):\n",
    "        self.vector_store = vector_store\n",
    "        self.system_prompt = \"\"\"You are Dr. Bot, a medical AI assistant. Follow these rules:\n",
    "1. Provide accurate, evidence-based information\n",
    "2. Explain medical concepts in simple terms\n",
    "3. Never diagnose or prescribe treatment\n",
    "4. Always recommend consulting a doctor\n",
    "5. Be empathetic and professional\"\"\"\n",
    "        \n",
    "        # Setup chat interface\n",
    "        self.setup_ui()\n",
    "        \n",
    "    def setup_ui(self):\n",
    "        \"\"\"Initialize the user interface components\"\"\"\n",
    "        # Chat history display\n",
    "        self.chat_history = widgets.Output()\n",
    "        display(self.chat_history)\n",
    "        \n",
    "        # Input widgets - FIXED THE MISSING PARENTHESIS HERE\n",
    "        self.user_input = widgets.Text(\n",
    "            placeholder='Type your medical question here...',\n",
    "            layout=widgets.Layout(width='80%')\n",
    "        )\n",
    "        \n",
    "        self.submit_button = widgets.Button(\n",
    "            description=\"Ask\",\n",
    "            button_style='primary',\n",
    "            tooltip='Submit your question'\n",
    "        )\n",
    "        self.submit_button.on_click(self.process_input)\n",
    "        \n",
    "        # Clear button\n",
    "        self.clear_button = widgets.Button(\n",
    "            description=\"Clear\",\n",
    "            button_style='warning'\n",
    "        )\n",
    "        self.clear_button.on_click(self.clear_chat)\n",
    "        \n",
    "        # Display controls\n",
    "        display(widgets.HBox([self.user_input, self.submit_button, self.clear_button]))\n",
    "    \n",
    "    def get_context(self, query: str, k: int = 3) -> str:\n",
    "        \"\"\"Retrieve relevant context from documents\"\"\"\n",
    "        if not self.vector_store:\n",
    "            return \"\"\n",
    "        try:\n",
    "            docs = self.vector_store.similarity_search(query, k=k)\n",
    "            return \"\\n\\n\".join([f\"Source {i+1}:\\n{doc.page_content}\" \n",
    "                              for i, doc in enumerate(docs)])\n",
    "        except Exception as e:\n",
    "            print(f\"Context retrieval error: {e}\")\n",
    "            return \"\"\n",
    "    \n",
    "    def generate_response(self, query: str) -> str:\n",
    "        \"\"\"Generate response using Groq API\"\"\"\n",
    "        context = self.get_context(query)\n",
    "        \n",
    "        messages = [\n",
    "            {\"role\": \"system\", \"content\": self.system_prompt},\n",
    "            {\"role\": \"user\", \"content\": f\"Context:\\n{context}\\n\\nQuestion: {query}\"}\n",
    "        ]\n",
    "        \n",
    "        try:\n",
    "            response = client.chat.completions.create(\n",
    "                model=Config.LLM_MODEL,\n",
    "                messages=messages,\n",
    "                temperature=0.3,\n",
    "                max_tokens=1024\n",
    "            )\n",
    "            return response.choices[0].message.content\n",
    "        except Exception as e:\n",
    "            return f\"I'm having trouble responding. Error: {str(e)}\"\n",
    "    \n",
    "    def process_input(self, _):\n",
    "        \"\"\"Handle user input\"\"\"\n",
    "        query = self.user_input.value.strip()\n",
    "        if not query:\n",
    "            return\n",
    "            \n",
    "        with self.chat_history:\n",
    "            display(Markdown(f\"**You:** {query}\"))\n",
    "            \n",
    "            # Show typing indicator\n",
    "            with widgets.Output():\n",
    "                display(Markdown(\"*Dr. Bot is thinking...*\"))\n",
    "            \n",
    "            response = self.generate_response(query)\n",
    "            \n",
    "            # Clear typing indicator and show response\n",
    "            clear_output(wait=True)\n",
    "            display(Markdown(f\"**Dr. Bot:** {response}\"))\n",
    "        \n",
    "        # Clear input\n",
    "        self.user_input.value = \"\"\n",
    "    \n",
    "    def clear_chat(self, _):\n",
    "        \"\"\"Clear the chat history\"\"\"\n",
    "        self.chat_history.clear_output()\n",
    "\n",
    "# %%\n",
    "# Initialize and run the chatbot\n",
    "if 'client' in globals() and vector_store is not None:\n",
    "    display(Markdown(\"## 🏥 Medical Chatbot Interface\"))\n",
    "    chatbot = MedicalChatbot(vector_store)\n",
    "else:\n",
    "    display(Markdown(\"❌ Chatbot initialization failed. Please check:\"\n",
    "                    \"\\n1. Your API key is valid\"\n",
    "                    \"\\n2. You have PDF files in the data directory\"\n",
    "                    \"\\n3. All previous cells ran successfully\"))"
   ]
  },
  {
   "cell_type": "code",
   "execution_count": null,
   "id": "547bdaed",
   "metadata": {},
   "outputs": [],
   "source": []
  },
  {
   "cell_type": "code",
   "execution_count": null,
   "id": "258c869e",
   "metadata": {},
   "outputs": [],
   "source": []
  }
 ],
 "metadata": {
  "kernelspec": {
   "display_name": "chatbotenv",
   "language": "python",
   "name": "python3"
  },
  "language_info": {
   "codemirror_mode": {
    "name": "ipython",
    "version": 3
   },
   "file_extension": ".py",
   "mimetype": "text/x-python",
   "name": "python",
   "nbconvert_exporter": "python",
   "pygments_lexer": "ipython3",
   "version": "3.10.18"
  }
 },
 "nbformat": 4,
 "nbformat_minor": 5
}
